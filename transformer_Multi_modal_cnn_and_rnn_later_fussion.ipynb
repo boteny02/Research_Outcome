{
  "nbformat": 4,
  "nbformat_minor": 0,
  "metadata": {
    "colab": {
      "provenance": [],
      "authorship_tag": "ABX9TyO7CZN5uqFWR52Yy7cnBUzT",
      "include_colab_link": true
    },
    "kernelspec": {
      "name": "python3",
      "display_name": "Python 3"
    },
    "language_info": {
      "name": "python"
    }
  },
  "cells": [
    {
      "cell_type": "markdown",
      "metadata": {
        "id": "view-in-github",
        "colab_type": "text"
      },
      "source": [
        "<a href=\"https://colab.research.google.com/github/boteny02/Research_Outcome/blob/main/transformer_Multi_modal_cnn_and_rnn_later_fussion.ipynb\" target=\"_parent\"><img src=\"https://colab.research.google.com/assets/colab-badge.svg\" alt=\"Open In Colab\"/></a>"
      ]
    },
    {
      "cell_type": "code",
      "execution_count": null,
      "metadata": {
        "id": "r4tfB8WXoOpN"
      },
      "outputs": [],
      "source": [
        "# prompt:  transformer Multi modal cnn and rnn later fussion\n",
        "\n",
        "import tensorflow as tf\n",
        "from tensorflow.keras.layers import Input, Conv2D, MaxPooling2D, Flatten, LSTM, Dense, concatenate\n",
        "from tensorflow.keras.models import Model\n",
        "\n",
        "# Define input shapes for image and text\n",
        "image_input_shape = (224, 224, 3)  # Example image shape\n",
        "text_input_shape = (100,)  # Example text sequence length\n",
        "\n",
        "# Image branch (CNN)\n",
        "image_input = Input(shape=image_input_shape)\n",
        "x = Conv2D(32, (3, 3), activation='relu')(image_input)\n",
        "x = MaxPooling2D((2, 2))(x)\n",
        "x = Conv2D(64, (3, 3), activation='relu')(x)\n",
        "x = MaxPooling2D((2, 2))(x)\n",
        "x = Flatten()(x)\n",
        "image_features = Dense(128, activation='relu')(x)\n",
        "\n",
        "# Text branch (RNN)\n",
        "text_input = Input(shape=text_input_shape)\n",
        "x = LSTM(128)(text_input)\n",
        "text_features = Dense(128, activation='relu')(x)\n",
        "\n",
        "# Fusion layer\n",
        "merged_features = concatenate([image_features, text_features])\n",
        "\n",
        "# Output layer\n",
        "output = Dense(10, activation='softmax')(merged_features)  # Example 10-class classification\n",
        "\n",
        "# Create the model\n",
        "model = Model(inputs=[image_input, text_input], outputs=output)\n",
        "\n",
        "# Compile the model\n",
        "model.compile(optimizer='adam', loss='categorical_crossentropy', metrics=['accuracy'])\n",
        "\n",
        "# Print the model summary\n",
        "model.summary()\n"
      ]
    }
  ]
}